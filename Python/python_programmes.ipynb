{
 "cells": [
  {
   "cell_type": "markdown",
   "metadata": {},
   "source": [
    "**1. Write a function that inputs a number and prints the multiplication table of that number**"
   ]
  },
  {
   "cell_type": "code",
   "execution_count": 1,
   "metadata": {},
   "outputs": [
    {
     "name": "stdout",
     "output_type": "stream",
     "text": [
      "7 * 1 = 7\n",
      "7 * 2 = 14\n",
      "7 * 3 = 21\n",
      "7 * 4 = 28\n",
      "7 * 5 = 35\n",
      "7 * 6 = 42\n",
      "7 * 7 = 49\n",
      "7 * 8 = 56\n",
      "7 * 9 = 63\n",
      "7 * 10 = 70\n"
     ]
    }
   ],
   "source": [
    "def multi(n):\n",
    "    for i in range(1,11):\n",
    "        print(\"{} * {} = {}\".format(n, i, (n*i)))\n",
    "        \n",
    "n = int(input(\"Enter a number: \"))\n",
    "multi(n)"
   ]
  },
  {
   "cell_type": "markdown",
   "metadata": {},
   "source": [
    "**2. Write a program to print twin primes less than 1000. If two consecutive odd numbers are\n",
    "both prime then they are known as twin primes**"
   ]
  },
  {
   "cell_type": "code",
   "execution_count": 2,
   "metadata": {},
   "outputs": [],
   "source": [
    "odd_primes = []\n",
    "for n in range(2,1000+1):\n",
    "    is_div = False\n",
    "    is_odd = False\n",
    "    if n % 2 != 0:\n",
    "        is_odd = True\n",
    "        for x in range(2, n):\n",
    "            if n % x == 0:\n",
    "                is_div = True\n",
    "        if not is_div and is_odd:\n",
    "            odd_primes.append(n)"
   ]
  },
  {
   "cell_type": "code",
   "execution_count": 3,
   "metadata": {},
   "outputs": [
    {
     "name": "stdout",
     "output_type": "stream",
     "text": [
      "Twin primes less than 1000 :\n",
      "\n",
      "3 5\n",
      "5 7\n",
      "11 13\n",
      "17 19\n",
      "29 31\n",
      "41 43\n",
      "59 61\n",
      "71 73\n",
      "101 103\n",
      "107 109\n",
      "137 139\n",
      "149 151\n",
      "179 181\n",
      "191 193\n",
      "197 199\n",
      "227 229\n",
      "239 241\n",
      "269 271\n",
      "281 283\n",
      "311 313\n",
      "347 349\n",
      "419 421\n",
      "431 433\n",
      "461 463\n",
      "521 523\n",
      "569 571\n",
      "599 601\n",
      "617 619\n",
      "641 643\n",
      "659 661\n",
      "809 811\n",
      "821 823\n",
      "827 829\n",
      "857 859\n",
      "881 883\n"
     ]
    }
   ],
   "source": [
    "print(\"Twin primes less than 1000 :\\n\")\n",
    "for x in range(len(odd_primes)-1):\n",
    "    if odd_primes[x+1] - odd_primes[x] == 2:\n",
    "        print(odd_primes[x], odd_primes[x+1])"
   ]
  },
  {
   "cell_type": "markdown",
   "metadata": {},
   "source": [
    "**3. Write a program to find out the prime factors of a number. Example: prime factors of 56 -\n",
    "2, 2, 2, 7**"
   ]
  },
  {
   "cell_type": "code",
   "execution_count": 4,
   "metadata": {},
   "outputs": [
    {
     "data": {
      "text/plain": [
       "[2, 2, 5, 5]"
      ]
     },
     "execution_count": 4,
     "metadata": {},
     "output_type": "execute_result"
    }
   ],
   "source": [
    "def prime(n):\n",
    "    primes = []\n",
    "    for x in range(2,n+1):\n",
    "        for z in range(2,x):\n",
    "            if x % z == 0:\n",
    "                break\n",
    "        else:\n",
    "            primes.append(x)\n",
    "    return primes\n",
    "         \n",
    "def prime_factor(n):\n",
    "    pri = prime(n)\n",
    "    pf = []\n",
    "    for x in pri:\n",
    "        while n % x == 0:\n",
    "            pf.append(x)\n",
    "            n = n // x\n",
    "        else:\n",
    "            continue\n",
    "            \n",
    "    return pf\n",
    "            \n",
    "prime_factor(100)"
   ]
  },
  {
   "cell_type": "markdown",
   "metadata": {},
   "source": [
    "**4. Write a program to implement these formulae of permutations and combinations.\n",
    "Number of permutations of n objects taken r at a time: p(n, r) = n! / (n-r)!. Number of\n",
    "combinations of n objects taken r at a time is: c(n, r) = n! / (r!*(n-r)!) = p(n,r) / r!**"
   ]
  },
  {
   "cell_type": "code",
   "execution_count": 5,
   "metadata": {},
   "outputs": [],
   "source": [
    "def fact(n):\n",
    "    f = 1\n",
    "    for x in range(1,n+1):\n",
    "        f *= x\n",
    "    return f"
   ]
  },
  {
   "cell_type": "code",
   "execution_count": 6,
   "metadata": {},
   "outputs": [
    {
     "data": {
      "text/plain": [
       "720.0"
      ]
     },
     "execution_count": 6,
     "metadata": {},
     "output_type": "execute_result"
    }
   ],
   "source": [
    "def perm(n,r):\n",
    "    per = fact(n)/fact(n-r)\n",
    "    return per\n",
    "\n",
    "perm(10,3)"
   ]
  },
  {
   "cell_type": "code",
   "execution_count": 7,
   "metadata": {},
   "outputs": [
    {
     "data": {
      "text/plain": [
       "210.0"
      ]
     },
     "execution_count": 7,
     "metadata": {},
     "output_type": "execute_result"
    }
   ],
   "source": [
    "def comb(n, r):\n",
    "    com = perm(n, r)/fact(r)\n",
    "    return com\n",
    "\n",
    "comb(10, 6)"
   ]
  },
  {
   "cell_type": "markdown",
   "metadata": {},
   "source": [
    "**5. Write a function that converts a decimal number to binary number**"
   ]
  },
  {
   "cell_type": "code",
   "execution_count": 8,
   "metadata": {},
   "outputs": [
    {
     "name": "stdout",
     "output_type": "stream",
     "text": [
      "1\n",
      "0\n",
      "1\n",
      "0\n"
     ]
    }
   ],
   "source": [
    "def dec_to_bin(n):\n",
    "    if n > 1:\n",
    "        dec_to_bin(n//2)\n",
    "    print(n%2)\n",
    "\n",
    "dec_to_bin(10)"
   ]
  },
  {
   "cell_type": "markdown",
   "metadata": {},
   "source": [
    "**6. Write a function cubesum() that accepts an integer and returns the sum of the cubes of\n",
    "individual digits of that number. Use this function to make functions PrintArmstrong() and\n",
    "isArmstrong() to print Armstrong numbers and to find whether is an Armstrong number.**"
   ]
  },
  {
   "cell_type": "code",
   "execution_count": 9,
   "metadata": {},
   "outputs": [
    {
     "data": {
      "text/plain": [
       "(153, [0, 1, 153, 370, 371], True)"
      ]
     },
     "execution_count": 9,
     "metadata": {},
     "output_type": "execute_result"
    }
   ],
   "source": [
    "def cubesum(n):\n",
    "    cs = 0\n",
    "    while n > 0:\n",
    "        cs += (n % 10)**3\n",
    "        n = n // 10\n",
    "    return cs\n",
    "\n",
    "def arm_strong(n):\n",
    "    arm_str = []\n",
    "    for x in n:\n",
    "        a = cubesum(x)\n",
    "        if a==x:\n",
    "            arm_str.append(x)\n",
    "    return arm_str\n",
    "        \n",
    "def is_arm_strong(n):\n",
    "    a = cubesum(n)\n",
    "    if a == n:\n",
    "        return True\n",
    "\n",
    "cubesum(153), arm_strong(range(0,400)), is_arm_strong(153)"
   ]
  },
  {
   "cell_type": "markdown",
   "metadata": {},
   "source": [
    "**7. Write a function prodDigits() that inputs a number and returns the product of digits of that\n",
    "number.**"
   ]
  },
  {
   "cell_type": "code",
   "execution_count": 10,
   "metadata": {},
   "outputs": [
    {
     "data": {
      "text/plain": [
       "6"
      ]
     },
     "execution_count": 10,
     "metadata": {},
     "output_type": "execute_result"
    }
   ],
   "source": [
    "def prodDigits(n):\n",
    "    prod = 1\n",
    "    while n > 0:\n",
    "        prod *= n % 10\n",
    "        n = n // 10\n",
    "    return prod\n",
    "\n",
    "prodDigits(23)"
   ]
  },
  {
   "cell_type": "markdown",
   "metadata": {},
   "source": [
    "**8. If all digits of a number n are multiplied by each other repeating with the product, the one\n",
    "digit number obtained at last is called the multiplicative digital root of n. The number of\n",
    "times digits need to be multiplied to reach one digit is called the multiplicative\n",
    "persistance of n.\n",
    "Example: 86 -> 48 -> 32 -> 6 (MDR 6, MPersistence 3)\n",
    "341 -> 12->2 (MDR 2, MPersistence 2)\n",
    "Using the function prodDigits() of previous exercise write functions MDR() and\n",
    "MPersistence() that input a number and return its multiplicative digital root and\n",
    "multiplicative persistence respectively**"
   ]
  },
  {
   "cell_type": "code",
   "execution_count": 11,
   "metadata": {},
   "outputs": [
    {
     "data": {
      "text/plain": [
       "(6, 3)"
      ]
     },
     "execution_count": 11,
     "metadata": {},
     "output_type": "execute_result"
    }
   ],
   "source": [
    "def Mpersist(n):\n",
    "    mp = 0\n",
    "    while n//10:\n",
    "        mp += 1\n",
    "        n = prodDigits(n)\n",
    "    else:\n",
    "        return mp\n",
    "\n",
    "def MDR(n):\n",
    "    while n//10:\n",
    "        n = prodDigits(n)\n",
    "    else:\n",
    "        return n\n",
    "        \n",
    "MDR(86), Mpersist(86)"
   ]
  },
  {
   "cell_type": "markdown",
   "metadata": {},
   "source": [
    "**9. Write a function sumPdivisors() that finds the sum of proper divisors of a number. Proper\n",
    "divisors of a number are those numbers by which the number is divisible, except the\n",
    "number itself. For example proper divisors of 36 are 1, 2, 3, 4, 6, 9, 12, 18**"
   ]
  },
  {
   "cell_type": "code",
   "execution_count": 12,
   "metadata": {},
   "outputs": [
    {
     "data": {
      "text/plain": [
       "55"
      ]
     },
     "execution_count": 12,
     "metadata": {},
     "output_type": "execute_result"
    }
   ],
   "source": [
    "def sumPdivisors(n):\n",
    "    j = 0\n",
    "    for x in range(n, 1, -1):\n",
    "        if n % x == 0:\n",
    "            j += (n//x)\n",
    "    return j\n",
    "\n",
    "sumPdivisors(36)"
   ]
  },
  {
   "cell_type": "markdown",
   "metadata": {},
   "source": [
    "**10. A number is called perfect if the sum of proper divisors of that number is equal to the\n",
    "number. For example 28 is perfect number, since 1+2+4+7+14=28. Write a program to\n",
    "print all the perfect numbers in a given range**"
   ]
  },
  {
   "cell_type": "code",
   "execution_count": 13,
   "metadata": {},
   "outputs": [
    {
     "data": {
      "text/plain": [
       "[6, 28]"
      ]
     },
     "execution_count": 13,
     "metadata": {},
     "output_type": "execute_result"
    }
   ],
   "source": [
    "def perfect(a):\n",
    "    p = []\n",
    "    for z in a:\n",
    "        if z > 0:\n",
    "            j = 0\n",
    "            for x in range(z, 1, -1):\n",
    "                if z % x == 0:\n",
    "                    j += z // x\n",
    "\n",
    "            if j == z:\n",
    "                p.append(z)\n",
    "    return p\n",
    "\n",
    "perfect(range(1,50))"
   ]
  },
  {
   "cell_type": "markdown",
   "metadata": {},
   "source": [
    "**11. Two different numbers are called amicable numbers if the sum of the proper divisors of\n",
    "each is equal to the other number. For example 220 and 284 are amicable numbers.\n",
    "Sum of proper divisors of 220 = 1+2+4+5+10+11+20+22+44+55+110 = 284\n",
    "Sum of proper divisors of 284 = 1+2+4+71+142 = 220\n",
    "Write a function to print pairs of amicable numbers in a range**"
   ]
  },
  {
   "cell_type": "code",
   "execution_count": 14,
   "metadata": {},
   "outputs": [
    {
     "data": {
      "text/plain": [
       "[(28, 28), (220, 284), (284, 220)]"
      ]
     },
     "execution_count": 14,
     "metadata": {},
     "output_type": "execute_result"
    }
   ],
   "source": [
    "def amicab(x):\n",
    "    amicabs = []\n",
    "    def div(q):\n",
    "        j = 0\n",
    "        for z in range(q, 1, -1):\n",
    "            if q%z == 0:\n",
    "                j += q//z\n",
    "        return j\n",
    "    \n",
    "    for i in x:\n",
    "        a = div(i)\n",
    "        if a in x:\n",
    "            b = div(a)\n",
    "            if b == i:\n",
    "                amicabs.append((i,a))\n",
    "    return amicabs\n",
    "\n",
    "amicab(range(10, 300))"
   ]
  },
  {
   "cell_type": "markdown",
   "metadata": {},
   "source": [
    "**12. Write a program which can filter odd numbers in a list by using filter function**"
   ]
  },
  {
   "cell_type": "code",
   "execution_count": 15,
   "metadata": {},
   "outputs": [
    {
     "name": "stdout",
     "output_type": "stream",
     "text": [
      "1\n",
      "3\n",
      "5\n",
      "7\n",
      "9\n"
     ]
    }
   ],
   "source": [
    "for od in filter(lambda x: x%2!=0,range(1,10)):\n",
    "    print(od)"
   ]
  },
  {
   "cell_type": "markdown",
   "metadata": {},
   "source": [
    "**13. Write a program which can map() to make a list whose elements are cube of elements in\n",
    "a given list**"
   ]
  },
  {
   "cell_type": "code",
   "execution_count": 16,
   "metadata": {},
   "outputs": [
    {
     "name": "stdout",
     "output_type": "stream",
     "text": [
      "1\n",
      "8\n",
      "27\n",
      "64\n",
      "125\n",
      "216\n",
      "343\n",
      "512\n",
      "729\n"
     ]
    }
   ],
   "source": [
    "for cube in map(lambda x:x**3, range(1,10)):\n",
    "    print(cube)"
   ]
  },
  {
   "cell_type": "markdown",
   "metadata": {},
   "source": [
    "**14. Write a program which can map() and filter() to make a list whose elements are cube of\n",
    "even number in a given list**"
   ]
  },
  {
   "cell_type": "code",
   "execution_count": 17,
   "metadata": {},
   "outputs": [
    {
     "name": "stdout",
     "output_type": "stream",
     "text": [
      "8\n",
      "64\n",
      "216\n",
      "512\n"
     ]
    }
   ],
   "source": [
    "for even_cube in filter(lambda x:x%2==0, map(lambda x:x**3, range(1,10))):\n",
    "    print(even_cube)"
   ]
  },
  {
   "cell_type": "code",
   "execution_count": null,
   "metadata": {},
   "outputs": [],
   "source": []
  }
 ],
 "metadata": {
  "kernelspec": {
   "display_name": "Python 3",
   "language": "python",
   "name": "python3"
  },
  "language_info": {
   "codemirror_mode": {
    "name": "ipython",
    "version": 3
   },
   "file_extension": ".py",
   "mimetype": "text/x-python",
   "name": "python",
   "nbconvert_exporter": "python",
   "pygments_lexer": "ipython3",
   "version": "3.9.1"
  }
 },
 "nbformat": 4,
 "nbformat_minor": 2
}
