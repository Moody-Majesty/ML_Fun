{
 "cells": [
  {
   "cell_type": "markdown",
   "metadata": {
    "colab_type": "text",
    "id": "5HExLQrE4ZxR"
   },
   "source": [
    "<h1><font color='blue'> Finding the Probability P(Y==1|X)</font></h1>"
   ]
  },
  {
   "cell_type": "markdown",
   "metadata": {
    "colab_type": "text",
    "id": "4LuKrFzC4ZxV"
   },
   "source": [
    "<h2><font color='Geen'> 1: Implementing Decision Function of SVM RBF Kernel</font></h2>"
   ]
  },
  {
   "cell_type": "markdown",
   "metadata": {
    "colab_type": "text",
    "id": "1wES-wWN4ZxX"
   },
   "source": [
    "<font face=' Comic Sans MS' size=3>After we train a kernel SVM model, we will be getting support vectors and their corresponsing coefficients $\\alpha_{i}$\n",
    "\n",
    "Check the documentation for better understanding of these attributes: \n",
    "\n",
    "https://scikit-learn.org/stable/modules/generated/sklearn.svm.SVC.html\n",
    "<img src='https://i.imgur.com/K11msU4.png' width=500>\n",
    "\n",
    "As a part of this notebook we will be implementing the ```decision_function()``` of kernel SVM, here decision_function() means based on the value return by ```decision_function()``` model will classify the data points either as positive or negative\n",
    "\n",
    "Ex 1: In logistic regression After training the models with the optimal weights $w$ we get, we will find the value $\\frac{1}{1+\\exp(-(wx+b))}$, if this value comes out to be < 0.5 we will mark it as negative class, else its positive class\n",
    "\n",
    "Ex 2: In Linear SVM After training the models with the optimal weights $w$ we get, we will find the value of $sign(wx+b)$, if this value comes out to be -ve we will mark it as negative class, else its positive class.\n",
    "\n",
    "Similarly in Kernel SVM After traning the models with the coefficients $\\alpha_{i}$ we get, we will find the value of \n",
    "$sign(\\sum_{i=1}^{n}(y_{i}\\alpha_{i}K(x_{i},x_{q})) + intercept)$, here $K(x_{i},x_{q})$ is the RBF kernel. If this value comes out to be -ve we will mark $x_{q}$ as negative class, else its positive class.\n",
    "\n",
    "RBF kernel is defined as: $K(x_{i},x_{q})$ = $exp(-\\gamma ||x_{i} - x_{q}||^2)$\n",
    "\n",
    "For better understanding check this link: https://scikit-learn.org/stable/modules/svm.html#svm-mathematical-formulation\n",
    "</font>"
   ]
  },
  {
   "cell_type": "markdown",
   "metadata": {
    "colab_type": "text",
    "id": "z830CfMk4Zxa"
   },
   "source": [
    "## Applying SVC"
   ]
  },
  {
   "cell_type": "markdown",
   "metadata": {
    "colab_type": "text",
    "id": "MuBxHiCQ4Zxc"
   },
   "source": [
    "> 1. Split the data into $X_{train}$(60), $X_{cv}$(20), $X_{test}$(20)\n",
    "\n",
    "> 2. Train $SVC(gamma=0.001, C=100.)$ on the ($X_{train}$, $y_{train}$)\n",
    "\n",
    "> 3. Get the decision boundry values $f_{cv}$ on the $X_{cv}$ data  i.e. ` `$f_{cv}$ ```= decision_function(```$X_{cv}$```)```  \n",
    "<font color='red'>We will implement this decision_function()</font>"
   ]
  },
  {
   "cell_type": "code",
   "execution_count": 1,
   "metadata": {
    "colab": {},
    "colab_type": "code",
    "id": "fCgMNEvI4Zxf"
   },
   "outputs": [],
   "source": [
    "%matplotlib inline\n",
    "import warnings\n",
    "warnings.filterwarnings(\"ignore\")\n",
    "import numpy as np\n",
    "import pandas as pd\n",
    "from sklearn.datasets import make_classification\n",
    "from sklearn.model_selection import train_test_split\n",
    "from sklearn.model_selection import GridSearchCV\n",
    "from sklearn import linear_model\n",
    "from sklearn import svm\n",
    "import numpy as np\n",
    "import math as mt\n",
    "from sklearn.svm import SVC\n",
    "import matplotlib.pyplot as plt"
   ]
  },
  {
   "cell_type": "code",
   "execution_count": 2,
   "metadata": {
    "colab": {},
    "colab_type": "code",
    "id": "ANUNIqCe4Zxn"
   },
   "outputs": [],
   "source": [
    "X, y = make_classification(n_samples=5000, n_features=5, n_redundant=2,\n",
    "                           n_classes=2, weights=[0.7], class_sep=0.7, random_state=15)"
   ]
  },
  {
   "cell_type": "code",
   "execution_count": 3,
   "metadata": {
    "colab": {
     "base_uri": "https://localhost:8080/",
     "height": 34
    },
    "colab_type": "code",
    "id": "nhin6mupkISe",
    "outputId": "d6e201a6-e440-4535-f6a1-ee087aa0c65a"
   },
   "outputs": [
    {
     "data": {
      "text/plain": [
       "((5000, 5), (5000,))"
      ]
     },
     "execution_count": 3,
     "metadata": {},
     "output_type": "execute_result"
    }
   ],
   "source": [
    "X.shape, y.shape"
   ]
  },
  {
   "cell_type": "code",
   "execution_count": 4,
   "metadata": {
    "colab": {},
    "colab_type": "code",
    "id": "33GmbvUtRhZz"
   },
   "outputs": [],
   "source": [
    "X_train, X_test, y_train, y_test = train_test_split(X, y, test_size=0.2, random_state=1)\n",
    "\n",
    "X_train, X_val, y_train, y_val = train_test_split(X_train, y_train, test_size=0.25, random_state=1)"
   ]
  },
  {
   "cell_type": "code",
   "execution_count": 5,
   "metadata": {
    "colab": {
     "base_uri": "https://localhost:8080/",
     "height": 34
    },
    "colab_type": "code",
    "id": "QOhnTP4aRheH",
    "outputId": "0eeb96e3-518e-4cee-c4b1-1cd931784c9f"
   },
   "outputs": [
    {
     "data": {
      "text/plain": [
       "((3000, 5), (1000, 5), (1000, 5), (3000,), (1000,), (1000,))"
      ]
     },
     "execution_count": 5,
     "metadata": {},
     "output_type": "execute_result"
    }
   ],
   "source": [
    "X_train.shape, X_val.shape, X_test.shape, y_train.shape, y_val.shape, y_test.shape"
   ]
  },
  {
   "cell_type": "markdown",
   "metadata": {
    "colab_type": "text",
    "id": "tHie1zqH4Zxt"
   },
   "source": [
    "### Pseudo code\n",
    "\n",
    "clf = SVC(gamma=0.001, C=100.)<br>\n",
    "clf.fit(Xtrain, ytrain)\n",
    "\n",
    "<font color='green'>def</font> <font color='blue'>decision_function</font>(Xcv, ...): #use appropriate parameters <br>\n",
    "&nbsp;&nbsp;&nbsp;&nbsp;&nbsp;&nbsp;<font color='green'>for</font> a data point $x_q$ <font color='green'>in</font> Xcv: <br>\n",
    "&nbsp;&nbsp;&nbsp;&nbsp;&nbsp;&nbsp;&nbsp;&nbsp;&nbsp;&nbsp;&nbsp;&nbsp;<font color='grey'>#write code to implement $(\\sum_{i=1}^{\\text{all the support vectors}}(y_{i}\\alpha_{i}K(x_{i},x_{q})) + intercept)$, \n",
    "here the values $y_i$, $\\alpha_{i}$, and $intercept$ can be obtained from the trained model</font><br>\n",
    "   <font color='green'>return</font> <font color='grey'><i># the decision_function output for all the data points in the Xcv</i></font>\n",
    "    \n",
    "fcv = decision_function(Xcv, ...)  <i># based on your requirement you can pass any other parameters </i>\n",
    "\n",
    "<b>Note</b>: Make sure the values you get as fcv, should be equal to outputs of clf.decision_function(Xcv)\n"
   ]
  },
  {
   "cell_type": "code",
   "execution_count": 6,
   "metadata": {},
   "outputs": [
    {
     "name": "stdout",
     "output_type": "stream",
     "text": [
      "Best cross-validation score: 0.98\n",
      "Best parameters:  {'C': 10000.0, 'gamma': 0.01}\n"
     ]
    },
    {
     "data": {
      "image/png": "[encoded data removed]",
      "text/plain": [
       "<Figure size 640x480 with 1 Axes>"
      ]
     },
     "metadata": {},
     "output_type": "display_data"
    },
    {
     "data": {
      "text/html": [
       "<div>\n",
       "<style scoped>\n",
       "    .dataframe tbody tr th:only-of-type {\n",
       "        vertical-align: middle;\n",
       "    }\n",
       "\n",
       "    .dataframe tbody tr th {\n",
       "        vertical-align: top;\n",
       "    }\n",
       "\n",
       "    .dataframe thead th {\n",
       "        text-align: right;\n",
       "    }\n",
       "</style>\n",
       "<table border=\"1\" class=\"dataframe\">\n",
       "  <thead>\n",
       "    <tr style=\"text-align: right;\">\n",
       "      <th></th>\n",
       "      <th>mean_fit_time</th>\n",
       "      <th>std_fit_time</th>\n",
       "      <th>mean_score_time</th>\n",
       "      <th>std_score_time</th>\n",
       "      <th>param_C</th>\n",
       "      <th>param_gamma</th>\n",
       "      <th>params</th>\n",
       "      <th>split0_test_score</th>\n",
       "      <th>split1_test_score</th>\n",
       "      <th>split2_test_score</th>\n",
       "      <th>...</th>\n",
       "      <th>split2_train_score</th>\n",
       "      <th>split3_train_score</th>\n",
       "      <th>split4_train_score</th>\n",
       "      <th>split5_train_score</th>\n",
       "      <th>split6_train_score</th>\n",
       "      <th>split7_train_score</th>\n",
       "      <th>split8_train_score</th>\n",
       "      <th>split9_train_score</th>\n",
       "      <th>mean_train_score</th>\n",
       "      <th>std_train_score</th>\n",
       "    </tr>\n",
       "  </thead>\n",
       "  <tbody>\n",
       "    <tr>\n",
       "      <th>0</th>\n",
       "      <td>0.156986</td>\n",
       "      <td>0.016787</td>\n",
       "      <td>0.049503</td>\n",
       "      <td>0.003397</td>\n",
       "      <td>0.0001</td>\n",
       "      <td>0.0001</td>\n",
       "      <td>{'C': 0.0001, 'gamma': 0.0001}</td>\n",
       "      <td>0.968541</td>\n",
       "      <td>0.969952</td>\n",
       "      <td>0.987197</td>\n",
       "      <td>...</td>\n",
       "      <td>0.975291</td>\n",
       "      <td>0.975841</td>\n",
       "      <td>0.975866</td>\n",
       "      <td>0.974850</td>\n",
       "      <td>0.976818</td>\n",
       "      <td>0.977489</td>\n",
       "      <td>0.975095</td>\n",
       "      <td>0.976741</td>\n",
       "      <td>0.976199</td>\n",
       "      <td>0.000880</td>\n",
       "    </tr>\n",
       "    <tr>\n",
       "      <th>1</th>\n",
       "      <td>0.136006</td>\n",
       "      <td>0.002151</td>\n",
       "      <td>0.045000</td>\n",
       "      <td>0.000770</td>\n",
       "      <td>0.0001</td>\n",
       "      <td>0.001</td>\n",
       "      <td>{'C': 0.0001, 'gamma': 0.001}</td>\n",
       "      <td>0.968280</td>\n",
       "      <td>0.970004</td>\n",
       "      <td>0.987249</td>\n",
       "      <td>...</td>\n",
       "      <td>0.975165</td>\n",
       "      <td>0.975749</td>\n",
       "      <td>0.975838</td>\n",
       "      <td>0.974814</td>\n",
       "      <td>0.976828</td>\n",
       "      <td>0.977498</td>\n",
       "      <td>0.975135</td>\n",
       "      <td>0.976811</td>\n",
       "      <td>0.976199</td>\n",
       "      <td>0.000919</td>\n",
       "    </tr>\n",
       "    <tr>\n",
       "      <th>2</th>\n",
       "      <td>0.133200</td>\n",
       "      <td>0.001399</td>\n",
       "      <td>0.045194</td>\n",
       "      <td>0.001073</td>\n",
       "      <td>0.0001</td>\n",
       "      <td>0.01</td>\n",
       "      <td>{'C': 0.0001, 'gamma': 0.01}</td>\n",
       "      <td>0.967548</td>\n",
       "      <td>0.969586</td>\n",
       "      <td>0.986570</td>\n",
       "      <td>...</td>\n",
       "      <td>0.974922</td>\n",
       "      <td>0.975580</td>\n",
       "      <td>0.975903</td>\n",
       "      <td>0.974820</td>\n",
       "      <td>0.976749</td>\n",
       "      <td>0.977118</td>\n",
       "      <td>0.974990</td>\n",
       "      <td>0.976410</td>\n",
       "      <td>0.976017</td>\n",
       "      <td>0.000845</td>\n",
       "    </tr>\n",
       "    <tr>\n",
       "      <th>3</th>\n",
       "      <td>0.135303</td>\n",
       "      <td>0.003174</td>\n",
       "      <td>0.044712</td>\n",
       "      <td>0.000911</td>\n",
       "      <td>0.0001</td>\n",
       "      <td>0.1</td>\n",
       "      <td>{'C': 0.0001, 'gamma': 0.1}</td>\n",
       "      <td>0.964883</td>\n",
       "      <td>0.965615</td>\n",
       "      <td>0.981031</td>\n",
       "      <td>...</td>\n",
       "      <td>0.973166</td>\n",
       "      <td>0.973261</td>\n",
       "      <td>0.973950</td>\n",
       "      <td>0.972257</td>\n",
       "      <td>0.974813</td>\n",
       "      <td>0.974872</td>\n",
       "      <td>0.973125</td>\n",
       "      <td>0.973333</td>\n",
       "      <td>0.973831</td>\n",
       "      <td>0.000885</td>\n",
       "    </tr>\n",
       "    <tr>\n",
       "      <th>4</th>\n",
       "      <td>0.132531</td>\n",
       "      <td>0.000795</td>\n",
       "      <td>0.045097</td>\n",
       "      <td>0.001301</td>\n",
       "      <td>0.0001</td>\n",
       "      <td>1</td>\n",
       "      <td>{'C': 0.0001, 'gamma': 1}</td>\n",
       "      <td>0.948579</td>\n",
       "      <td>0.947899</td>\n",
       "      <td>0.967496</td>\n",
       "      <td>...</td>\n",
       "      <td>0.964012</td>\n",
       "      <td>0.963088</td>\n",
       "      <td>0.964793</td>\n",
       "      <td>0.962550</td>\n",
       "      <td>0.965694</td>\n",
       "      <td>0.963862</td>\n",
       "      <td>0.963116</td>\n",
       "      <td>0.962543</td>\n",
       "      <td>0.964082</td>\n",
       "      <td>0.001201</td>\n",
       "    </tr>\n",
       "  </tbody>\n",
       "</table>\n",
       "<p>5 rows × 32 columns</p>\n",
       "</div>"
      ],
      "text/plain": [
       "   mean_fit_time  std_fit_time  mean_score_time  std_score_time param_C  \\\n",
       "0       0.156986      0.016787         0.049503        0.003397  0.0001   \n",
       "1       0.136006      0.002151         0.045000        0.000770  0.0001   \n",
       "2       0.133200      0.001399         0.045194        0.001073  0.0001   \n",
       "3       0.135303      0.003174         0.044712        0.000911  0.0001   \n",
       "4       0.132531      0.000795         0.045097        0.001301  0.0001   \n",
       "\n",
       "  param_gamma                          params  split0_test_score  \\\n",
       "0      0.0001  {'C': 0.0001, 'gamma': 0.0001}           0.968541   \n",
       "1       0.001   {'C': 0.0001, 'gamma': 0.001}           0.968280   \n",
       "2        0.01    {'C': 0.0001, 'gamma': 0.01}           0.967548   \n",
       "3         0.1     {'C': 0.0001, 'gamma': 0.1}           0.964883   \n",
       "4           1       {'C': 0.0001, 'gamma': 1}           0.948579   \n",
       "\n",
       "   split1_test_score  split2_test_score  ...  split2_train_score  \\\n",
       "0           0.969952           0.987197  ...            0.975291   \n",
       "1           0.970004           0.987249  ...            0.975165   \n",
       "2           0.969586           0.986570  ...            0.974922   \n",
       "3           0.965615           0.981031  ...            0.973166   \n",
       "4           0.947899           0.967496  ...            0.964012   \n",
       "\n",
       "   split3_train_score  split4_train_score  split5_train_score  \\\n",
       "0            0.975841            0.975866            0.974850   \n",
       "1            0.975749            0.975838            0.974814   \n",
       "2            0.975580            0.975903            0.974820   \n",
       "3            0.973261            0.973950            0.972257   \n",
       "4            0.963088            0.964793            0.962550   \n",
       "\n",
       "   split6_train_score  split7_train_score  split8_train_score  \\\n",
       "0            0.976818            0.977489            0.975095   \n",
       "1            0.976828            0.977498            0.975135   \n",
       "2            0.976749            0.977118            0.974990   \n",
       "3            0.974813            0.974872            0.973125   \n",
       "4            0.965694            0.963862            0.963116   \n",
       "\n",
       "   split9_train_score  mean_train_score  std_train_score  \n",
       "0            0.976741          0.976199         0.000880  \n",
       "1            0.976811          0.976199         0.000919  \n",
       "2            0.976410          0.976017         0.000845  \n",
       "3            0.973333          0.973831         0.000885  \n",
       "4            0.962543          0.964082         0.001201  \n",
       "\n",
       "[5 rows x 32 columns]"
      ]
     },
     "execution_count": 6,
     "metadata": {},
     "output_type": "execute_result"
    }
   ],
   "source": [
    "params = {'C' : np.logspace(-4, 4, 10), 'gamma': [0.0001, 0.001, 0.01, 0.1, 1]}\n",
    "svm = SVC()\n",
    "\n",
    "clf = GridSearchCV(svm, params, cv=10, scoring='roc_auc', return_train_score=True)\n",
    "clf.fit(X_train, y_train)\n",
    "\n",
    "print(\"Best cross-validation score: {:.2f}\".format(clf.best_score_))\n",
    "print(\"Best parameters: \", clf.best_params_)\n",
    "#print(clf.cv_results_)\n",
    "\n",
    "results = pd.DataFrame.from_dict(clf.cv_results_)\n",
    "results = results.sort_values(['param_C'])\n",
    "\n",
    "train_auc= results['mean_train_score']\n",
    "train_auc_std= results['std_train_score']\n",
    "cv_auc = results['mean_test_score'] \n",
    "cv_auc_std= results['std_test_score']\n",
    "#A =  results['param_alpha']\n",
    "log_alpha = []\n",
    "for alpha in results['param_C']:\n",
    "    log_alpha.append(mt.log10(alpha))\n",
    "\n",
    "plt.plot(log_alpha, train_auc, label='Train AUC')\n",
    "# ref: https://stackoverflow.com/a/48803361/4084039\n",
    "# plt.gca().fill_between(K, train_auc - train_auc_std,train_auc + train_auc_std,alpha=0.2,color='darkblue')\n",
    "\n",
    "plt.plot(log_alpha, cv_auc, label='CV AUC')\n",
    "# ref: https://stackoverflow.com/a/48803361/4084039\n",
    "# plt.gca().fill_between(K, cv_auc - cv_auc_std,cv_auc + cv_auc_std,alpha=0.2,color='darkorange')\n",
    "\n",
    "plt.scatter(log_alpha, train_auc, label='Train AUC points')\n",
    "plt.scatter(log_alpha, cv_auc, label='CV AUC points')\n",
    "\n",
    "\n",
    "plt.legend()\n",
    "plt.xlabel(\"Alpha: hyperparameter\")\n",
    "plt.ylabel(\"AUC\")\n",
    "plt.title(\"Hyper parameter Vs AUC plot\")\n",
    "plt.grid()\n",
    "plt.show()\n",
    "\n",
    "results.head()"
   ]
  },
  {
   "cell_type": "markdown",
   "metadata": {},
   "source": [
    "### Training model with best hyper parameter does not making large impact, using default parameters."
   ]
  },
  {
   "cell_type": "code",
   "execution_count": 7,
   "metadata": {
    "colab": {
     "base_uri": "https://localhost:8080/",
     "height": 86
    },
    "colab_type": "code",
    "id": "h43kDT3M41u5",
    "outputId": "73c60160-9660-475e-ef13-3f0005b63d16"
   },
   "outputs": [
    {
     "data": {
      "text/html": [
       "<style>#sk-container-id-1 {color: black;}#sk-container-id-1 pre{padding: 0;}#sk-container-id-1 div.sk-toggleable {background-color: white;}#sk-container-id-1 label.sk-toggleable__label {cursor: pointer;display: block;width: 100%;margin-bottom: 0;padding: 0.3em;box-sizing: border-box;text-align: center;}#sk-container-id-1 label.sk-toggleable__label-arrow:before {content: \"▸\";float: left;margin-right: 0.25em;color: #696969;}#sk-container-id-1 label.sk-toggleable__label-arrow:hover:before {color: black;}#sk-container-id-1 div.sk-estimator:hover label.sk-toggleable__label-arrow:before {color: black;}#sk-container-id-1 div.sk-toggleable__content {max-height: 0;max-width: 0;overflow: hidden;text-align: left;background-color: #f0f8ff;}#sk-container-id-1 div.sk-toggleable__content pre {margin: 0.2em;color: black;border-radius: 0.25em;background-color: #f0f8ff;}#sk-container-id-1 input.sk-toggleable__control:checked~div.sk-toggleable__content {max-height: 200px;max-width: 100%;overflow: auto;}#sk-container-id-1 input.sk-toggleable__control:checked~label.sk-toggleable__label-arrow:before {content: \"▾\";}#sk-container-id-1 div.sk-estimator input.sk-toggleable__control:checked~label.sk-toggleable__label {background-color: #d4ebff;}#sk-container-id-1 div.sk-label input.sk-toggleable__control:checked~label.sk-toggleable__label {background-color: #d4ebff;}#sk-container-id-1 input.sk-hidden--visually {border: 0;clip: rect(1px 1px 1px 1px);clip: rect(1px, 1px, 1px, 1px);height: 1px;margin: -1px;overflow: hidden;padding: 0;position: absolute;width: 1px;}#sk-container-id-1 div.sk-estimator {font-family: monospace;background-color: #f0f8ff;border: 1px dotted black;border-radius: 0.25em;box-sizing: border-box;margin-bottom: 0.5em;}#sk-container-id-1 div.sk-estimator:hover {background-color: #d4ebff;}#sk-container-id-1 div.sk-parallel-item::after {content: \"\";width: 100%;border-bottom: 1px solid gray;flex-grow: 1;}#sk-container-id-1 div.sk-label:hover label.sk-toggleable__label {background-color: #d4ebff;}#sk-container-id-1 div.sk-serial::before {content: \"\";position: absolute;border-left: 1px solid gray;box-sizing: border-box;top: 0;bottom: 0;left: 50%;z-index: 0;}#sk-container-id-1 div.sk-serial {display: flex;flex-direction: column;align-items: center;background-color: white;padding-right: 0.2em;padding-left: 0.2em;position: relative;}#sk-container-id-1 div.sk-item {position: relative;z-index: 1;}#sk-container-id-1 div.sk-parallel {display: flex;align-items: stretch;justify-content: center;background-color: white;position: relative;}#sk-container-id-1 div.sk-item::before, #sk-container-id-1 div.sk-parallel-item::before {content: \"\";position: absolute;border-left: 1px solid gray;box-sizing: border-box;top: 0;bottom: 0;left: 50%;z-index: -1;}#sk-container-id-1 div.sk-parallel-item {display: flex;flex-direction: column;z-index: 1;position: relative;background-color: white;}#sk-container-id-1 div.sk-parallel-item:first-child::after {align-self: flex-end;width: 50%;}#sk-container-id-1 div.sk-parallel-item:last-child::after {align-self: flex-start;width: 50%;}#sk-container-id-1 div.sk-parallel-item:only-child::after {width: 0;}#sk-container-id-1 div.sk-dashed-wrapped {border: 1px dashed gray;margin: 0 0.4em 0.5em 0.4em;box-sizing: border-box;padding-bottom: 0.4em;background-color: white;}#sk-container-id-1 div.sk-label label {font-family: monospace;font-weight: bold;display: inline-block;line-height: 1.2em;}#sk-container-id-1 div.sk-label-container {text-align: center;}#sk-container-id-1 div.sk-container {/* jupyter's `normalize.less` sets `[hidden] { display: none; }` but bootstrap.min.css set `[hidden] { display: none !important; }` so we also need the `!important` here to be able to override the default hidden behavior on the sphinx rendered scikit-learn.org. See: https://github.com/scikit-learn/scikit-learn/issues/21755 */display: inline-block !important;position: relative;}#sk-container-id-1 div.sk-text-repr-fallback {display: none;}</style><div id=\"sk-container-id-1\" class=\"sk-top-container\"><div class=\"sk-text-repr-fallback\"><pre>SVC(C=100.0, gamma=0.001)</pre><b>In a Jupyter environment, please rerun this cell to show the HTML representation or trust the notebook. <br />On GitHub, the HTML representation is unable to render, please try loading this page with nbviewer.org.</b></div><div class=\"sk-container\" hidden><div class=\"sk-item\"><div class=\"sk-estimator sk-toggleable\"><input class=\"sk-toggleable__control sk-hidden--visually\" id=\"sk-estimator-id-1\" type=\"checkbox\" checked><label for=\"sk-estimator-id-1\" class=\"sk-toggleable__label sk-toggleable__label-arrow\">SVC</label><div class=\"sk-toggleable__content\"><pre>SVC(C=100.0, gamma=0.001)</pre></div></div></div></div></div>"
      ],
      "text/plain": [
       "SVC(C=100.0, gamma=0.001)"
      ]
     },
     "execution_count": 7,
     "metadata": {},
     "output_type": "execute_result"
    }
   ],
   "source": [
    "rbf_svm = SVC(gamma=0.001, C=100.)\n",
    "rbf_svm.fit(X_train, y_train)"
   ]
  },
  {
   "cell_type": "code",
   "execution_count": 8,
   "metadata": {},
   "outputs": [
    {
     "data": {
      "text/plain": [
       "0.935"
      ]
     },
     "execution_count": 8,
     "metadata": {},
     "output_type": "execute_result"
    }
   ],
   "source": [
    "rbf_svm.score(X_val, y_val)"
   ]
  },
  {
   "cell_type": "code",
   "execution_count": 9,
   "metadata": {
    "colab": {
     "base_uri": "https://localhost:8080/",
     "height": 69
    },
    "colab_type": "code",
    "id": "2vJWUEJUlcaf",
    "outputId": "9bcd6ca8-4785-48aa-ca93-7b4ca0d78390"
   },
   "outputs": [
    {
     "data": {
      "text/plain": [
       "((1000,),\n",
       " array([-3.04107788, -1.41113141, -2.23654838,  1.94133676,  1.60471505,\n",
       "        -2.49670518, -1.48081364, -3.44733079,  1.43827857,  1.51389734]))"
      ]
     },
     "execution_count": 9,
     "metadata": {},
     "output_type": "execute_result"
    }
   ],
   "source": [
    "f_val = rbf_svm.decision_function(X_val)\n",
    "f_val.shape, f_val[:10]"
   ]
  },
  {
   "cell_type": "code",
   "execution_count": 10,
   "metadata": {
    "colab": {},
    "colab_type": "code",
    "id": "Sz8i11Jy1LZx"
   },
   "outputs": [],
   "source": [
    "def rbf_kernel(gamma, svi, X):\n",
    "    dist = np.linalg.norm(svi - X)**2\n",
    "    rbf = np.exp( - gamma * dist )\n",
    "    return rbf\n",
    "\n",
    "def decision_function(yi_ai, sv, intercept, gamma, X_val):\n",
    "\n",
    "    z=[]\n",
    "    for xq in X_val:\n",
    "        sum = 0\n",
    "        for i in range(len(sv)):\n",
    "            rbf = rbf_kernel(gamma, sv[i], xq)\n",
    "            sum += yi_ai[0][i] * rbf\n",
    "        f_val = sum + intercept\n",
    "        z.append(f_val)\n",
    "    return np.array(z)"
   ]
  },
  {
   "cell_type": "code",
   "execution_count": 11,
   "metadata": {
    "colab": {
     "base_uri": "https://localhost:8080/",
     "height": 191
    },
    "colab_type": "code",
    "id": "WSAixgZDlcg8",
    "outputId": "02a773eb-3757-47e8-8f41-a2fa0f131a37"
   },
   "outputs": [
    {
     "data": {
      "text/plain": [
       "((1000, 1),\n",
       " array([[-3.04107788],\n",
       "        [-1.41113141],\n",
       "        [-2.23654838],\n",
       "        [ 1.94133676],\n",
       "        [ 1.60471505],\n",
       "        [-2.49670518],\n",
       "        [-1.48081364],\n",
       "        [-3.44733079],\n",
       "        [ 1.43827857],\n",
       "        [ 1.51389734]]))"
      ]
     },
     "execution_count": 11,
     "metadata": {},
     "output_type": "execute_result"
    }
   ],
   "source": [
    "yi_ai = rbf_svm.dual_coef_    # product yiai\n",
    "sv = rbf_svm.support_vectors_\n",
    "intercept = rbf_svm.intercept_\n",
    "gamma = rbf_svm.get_params()['gamma']\n",
    "\n",
    "yi_ai.shape, sv.shape, intercept.shape\n",
    "f_val_ = decision_function(yi_ai, sv, intercept, gamma, X_val)\n",
    "f_val_.shape, f_val_[:10]"
   ]
  },
  {
   "cell_type": "markdown",
   "metadata": {
    "colab_type": "text",
    "id": "c0bKCboN4Zxu"
   },
   "source": [
    "<h2><font color='Geen'> Implementing Platt Scaling to find P(Y==1|X)</font></h2>"
   ]
  },
  {
   "cell_type": "markdown",
   "metadata": {
    "colab_type": "text",
    "id": "nMn7OEN94Zxw"
   },
   "source": [
    "Check this <a href='https://drive.google.com/open?id=133odBinMOIVb_rh_GQxxsyMRyW-Zts7a'>PDF</a>\n",
    "<img src='https://i.imgur.com/CAMnVnh.png'>\n"
   ]
  },
  {
   "cell_type": "markdown",
   "metadata": {
    "colab_type": "text",
    "id": "e0n5EFkx4Zxz"
   },
   "source": [
    "## SGD"
   ]
  },
  {
   "cell_type": "markdown",
   "metadata": {
    "colab_type": "text",
    "id": "t0HOqVJq4Zx1"
   },
   "source": [
    "\n",
    "> 4. Apply SGD algorithm with ($f_{cv}$, $y_{cv}$) and find the weight $W$ intercept $b$ ```Note: here our data is of one dimensional so we will have a one dimensional weight vector i.e W.shape (1,)``` \n",
    "\n",
    "> Note1: Don't forget to change the values of $y_{cv}$ as mentioned in the above image. We will calculate y+, y- based on data points in train data\n",
    "\n",
    "> Note2: the Sklearn's SGD algorithm doesn't support the real valued outputs, We need to modify loss function.\n",
    "<img src='https://i.imgur.com/zKYE9Oc.png'>\n",
    "if Y[i] is 1, it will be replaced with y+ value else it will replaced with y- value\n",
    "\n",
    "> 5. For a given data point from $X_{test}$, $P(Y=1|X) = \\frac{1}{1+exp(-(W*f_{test}+ b))}$ where ` `$f_{test}$ ```= decision_function(```$X_{test}$```)```, W and b will be learned as metioned in the above step"
   ]
  },
  {
   "cell_type": "code",
   "execution_count": 12,
   "metadata": {
    "colab": {
     "base_uri": "https://localhost:8080/",
     "height": 191
    },
    "colab_type": "code",
    "id": "rFa3tHTovS0J",
    "outputId": "04b0abc9-ea2a-4a2e-bae0-379f00a713ba"
   },
   "outputs": [
    {
     "data": {
      "text/plain": [
       "(array([[-3.04107788],\n",
       "        [-1.41113141],\n",
       "        [-2.23654838],\n",
       "        [ 1.94133676],\n",
       "        [ 1.60471505],\n",
       "        [-2.49670518],\n",
       "        [-1.48081364],\n",
       "        [-3.44733079],\n",
       "        [ 1.43827857],\n",
       "        [ 1.51389734]]),\n",
       " array([0, 0, 0, 1, 1, 0, 1, 0, 1, 1]))"
      ]
     },
     "execution_count": 12,
     "metadata": {},
     "output_type": "execute_result"
    }
   ],
   "source": [
    "f_val_[:10], y_val[:10]"
   ]
  },
  {
   "cell_type": "code",
   "execution_count": 13,
   "metadata": {
    "colab": {
     "base_uri": "https://localhost:8080/",
     "height": 52
    },
    "colab_type": "code",
    "id": "DXJ9vc4Q7_KJ",
    "outputId": "8d6265c3-2fc6-4dae-8ecb-8751c834eb82"
   },
   "outputs": [
    {
     "data": {
      "text/plain": [
       "array([-3.04107788, -1.41113141, -2.23654838,  1.94133676,  1.60471505,\n",
       "       -2.49670518, -1.48081364, -3.44733079,  1.43827857,  1.51389734])"
      ]
     },
     "execution_count": 13,
     "metadata": {},
     "output_type": "execute_result"
    }
   ],
   "source": [
    "f_val_ = np.hstack(f_val_)\n",
    "f_val_[:10]"
   ]
  },
  {
   "cell_type": "code",
   "execution_count": 14,
   "metadata": {
    "colab": {},
    "colab_type": "code",
    "id": "5cHTJf7QvS4h"
   },
   "outputs": [],
   "source": [
    "def get_positive(np):\n",
    "    #print((np+1) / (np+2))\n",
    "    return (np+1) / (np+2)\n",
    "\n",
    "def get_negative(nn):\n",
    "    return 1 / (nn+2)"
   ]
  },
  {
   "cell_type": "code",
   "execution_count": 15,
   "metadata": {
    "colab": {},
    "colab_type": "code",
    "id": "flrtRPZR0NQp"
   },
   "outputs": [],
   "source": [
    "def convert_target_values(f_cv, y_cv):\n",
    "    f_cv, y_cv = f_cv.tolist(), y_cv.tolist()\n",
    "    for x in range(len(f_cv)):\n",
    "        if f_cv[x] > 0:\n",
    "            y_cv[x] = get_positive(x)\n",
    "          \n",
    "        elif f_cv[x] < 0:\n",
    "            y_cv[x] = get_negative(x)\n",
    "          \n",
    "    return np.array(f_cv).reshape(-1, 1), np.array(y_cv)"
   ]
  },
  {
   "cell_type": "code",
   "execution_count": 16,
   "metadata": {
    "colab": {
     "base_uri": "https://localhost:8080/",
     "height": 225
    },
    "colab_type": "code",
    "id": "j1qotzh20NbP",
    "outputId": "6b6ff5a9-494f-477e-a88d-daab08ab7d61"
   },
   "outputs": [
    {
     "data": {
      "text/plain": [
       "(array([[-3.04107788],\n",
       "        [-1.41113141],\n",
       "        [-2.23654838],\n",
       "        [ 1.94133676],\n",
       "        [ 1.60471505],\n",
       "        [-2.49670518],\n",
       "        [-1.48081364],\n",
       "        [-3.44733079],\n",
       "        [ 1.43827857],\n",
       "        [ 1.51389734]]),\n",
       " array([0.5       , 0.33333333, 0.25      , 0.8       , 0.83333333,\n",
       "        0.14285714, 0.125     , 0.11111111, 0.9       , 0.90909091]))"
      ]
     },
     "execution_count": 16,
     "metadata": {},
     "output_type": "execute_result"
    }
   ],
   "source": [
    "f_cv, y_cv = convert_target_values(f_val_, y_val)\n",
    "f_cv[:10], y_cv[:10]"
   ]
  },
  {
   "cell_type": "code",
   "execution_count": 17,
   "metadata": {
    "colab": {},
    "colab_type": "code",
    "id": "nfPaWBb-0Nmi"
   },
   "outputs": [],
   "source": [
    "def compute_log_loss(A):\n",
    "    l = 0\n",
    "    for i in A:\n",
    "        l += (i[0] * np.log10(i[1])) + ((1-i[0]) * np.log10((1-i[1])))\n",
    "    return (-1 / len(A)) * l\n",
    "\n",
    "def sigmoid(w, x, b):\n",
    "    return 1/(1 + np.exp(-(np.dot(x,w)+b)))\n",
    "\n",
    "def pred(w,b, X, lists_of_list=True):\n",
    "    N = len(X)\n",
    "    predict = []\n",
    "    if lists_of_list:\n",
    "        for i in range(N):\n",
    "            if sigmoid(w, X[i], b) >= 0.5: # sigmoid(w,x,b) returns 1/(1+exp(-(dot(x,w)+b)))\n",
    "                predict.append(1)\n",
    "            else:\n",
    "                predict.append(0)\n",
    "    else:\n",
    "        if sigmoid(w, X, b) >= 0.5:\n",
    "            predict.append(1)\n",
    "        else:\n",
    "            predict.append(0)\n",
    "    return np.array(predict)"
   ]
  },
  {
   "cell_type": "code",
   "execution_count": 18,
   "metadata": {
    "colab": {},
    "colab_type": "code",
    "id": "7MNfTThY0NZ0"
   },
   "outputs": [],
   "source": [
    "def sgd_classifier(X_train, y_train, w, b, eta0, alpha, epoch):\n",
    "    train_loss_, test_loss_ = [], []\n",
    "    \n",
    "    def calculate_loss(w, b, x, y):\n",
    "        train_loss = []\n",
    "        \n",
    "        for x1,y1 in zip(x, y):\n",
    "            train_loss.append([ y1, sigmoid(w, x1, b) ])\n",
    "        return compute_log_loss(train_loss)\n",
    "        \n",
    "    for i in epoch:\n",
    "        \n",
    "        for x_tr, y_tr in zip(X_train, y_train):\n",
    "            \n",
    "            w = (( 1-eta0 * (alpha/N)) * w) + ((eta0 * x_tr) * (y_tr - sigmoid(w,x_tr,b)))\n",
    "            b = b + (eta0 * (y_tr - sigmoid(w,x_tr,b)))\n",
    "            \n",
    "        train_loss = calculate_loss(w,b, X_train, y_train)\n",
    "        print(\"-\"*10, i, w, b, train_loss, \"\\n\")\n",
    "        \n",
    "        train_loss_.append(train_loss)\n",
    "        \n",
    "    return train_loss_, w, b"
   ]
  },
  {
   "cell_type": "code",
   "execution_count": 19,
   "metadata": {
    "colab": {
     "base_uri": "https://localhost:8080/",
     "height": 364
    },
    "colab_type": "code",
    "id": "NXmlA_Ke0NYV",
    "outputId": "d2e49ff5-6bb7-438e-f8f8-f1364b1f6b26"
   },
   "outputs": [
    {
     "name": "stdout",
     "output_type": "stream",
     "text": [
      "---------- 1 [0.09998708] -0.020275227030163268 0.2558283926435252 \n",
      "\n",
      "---------- 2 [0.18611614] -0.037158106163084716 0.22238347554116858 \n",
      "\n",
      "---------- 3 [0.26101485] -0.05131090415116865 0.1971632185595449 \n",
      "\n",
      "---------- 4 [0.32689925] -0.06329269364117138 0.1777013340147876 \n",
      "\n",
      "---------- 5 [0.38551906] -0.07354501928619055 0.16233388188475392 \n",
      "\n",
      "---------- 6 [0.43822453] -0.08240812402795689 0.14994012486941255 \n",
      "\n",
      "---------- 7 [0.48605497] -0.09014303648037371 0.13975502263949366 \n",
      "\n",
      "---------- 8 [0.52981582] -0.09695104842083914 0.1312460766887878 \n",
      "\n",
      "---------- 9 [0.57013806] -0.10298886272506722 0.12403470449860253 \n",
      "\n",
      "---------- 10 [0.60752213] -0.10837984030579355 0.11784606057489579 \n",
      "\n"
     ]
    }
   ],
   "source": [
    "w = np.zeros_like(f_cv[0])\n",
    "b = 0\n",
    "eta0  = 0.0001\n",
    "alpha = 0.0001\n",
    "N = len(f_cv)\n",
    "epoch = range(1, 10 + 1)\n",
    "train_loss, w, b = sgd_classifier(f_cv, y_cv, w, b, eta0, alpha, epoch)"
   ]
  },
  {
   "cell_type": "code",
   "execution_count": 20,
   "metadata": {
    "colab": {
     "base_uri": "https://localhost:8080/",
     "height": 34
    },
    "colab_type": "code",
    "id": "hdE724it0NWb",
    "outputId": "e01ed1ae-92ba-4fdc-e246-a431760b65ab"
   },
   "outputs": [
    {
     "data": {
      "text/plain": [
       "(1,)"
      ]
     },
     "execution_count": 20,
     "metadata": {},
     "output_type": "execute_result"
    }
   ],
   "source": [
    "w.shape"
   ]
  },
  {
   "cell_type": "code",
   "execution_count": 21,
   "metadata": {
    "colab": {
     "base_uri": "https://localhost:8080/",
     "height": 34
    },
    "colab_type": "code",
    "id": "FcLGMcWlGX-Y",
    "outputId": "dc1c880a-d65a-4f04-e4a6-47825cd50c4f"
   },
   "outputs": [
    {
     "data": {
      "text/plain": [
       "(1000, 1)"
      ]
     },
     "execution_count": 21,
     "metadata": {},
     "output_type": "execute_result"
    }
   ],
   "source": [
    "f_test = decision_function(yi_ai, sv, intercept, gamma, X_test)\n",
    "f_test.shape"
   ]
  },
  {
   "cell_type": "code",
   "execution_count": 22,
   "metadata": {
    "colab": {},
    "colab_type": "code",
    "id": "R9kRFYfpGYDH"
   },
   "outputs": [],
   "source": [
    "# P(Y=1|X)\n",
    "def predict_proba(w, b, f_test):\n",
    "    return 1 / (1 + np.exp( - (np.dot(f_test, w) +b)))"
   ]
  },
  {
   "cell_type": "code",
   "execution_count": 23,
   "metadata": {
    "colab": {
     "base_uri": "https://localhost:8080/",
     "height": 69
    },
    "colab_type": "code",
    "id": "WONoGw6MPBlO",
    "outputId": "627bfb3f-d659-4948-b443-edd14746cbe5"
   },
   "outputs": [
    {
     "data": {
      "text/plain": [
       "(array([0.63646968, 0.14950978, 0.42126428, 0.07662867, 0.48767118,\n",
       "        0.21401983, 0.72755059, 0.10674594, 0.2204225 , 0.23174907]),\n",
       " array([1, 0, 0, 0, 0, 0, 1, 0, 0, 0]))"
      ]
     },
     "execution_count": 23,
     "metadata": {},
     "output_type": "execute_result"
    }
   ],
   "source": [
    "probs = predict_proba(w, b, f_test)\n",
    "probs[:10], y_test[:10]"
   ]
  },
  {
   "cell_type": "code",
   "execution_count": 24,
   "metadata": {
    "colab": {
     "base_uri": "https://localhost:8080/",
     "height": 104
    },
    "colab_type": "code",
    "id": "3GtVH0PCPBq0",
    "outputId": "c5b43d5f-35b3-49cf-ee69-3d06adb46d92"
   },
   "outputs": [
    {
     "data": {
      "text/plain": [
       "(array([0.63646968, 0.14950978, 0.42126428, 0.07662867, 0.48767118,\n",
       "        0.21401983, 0.72755059, 0.10674594, 0.2204225 , 0.23174907,\n",
       "        0.19394785, 0.79748771, 0.67363109, 0.54620707, 0.62553184,\n",
       "        0.13523809, 0.48895809, 0.71561952, 0.77428917, 0.22677001]),\n",
       " array([1, 0, 0, 0, 0, 0, 1, 0, 0, 0, 0, 1, 1, 1, 1, 0, 0, 1, 1, 0]))"
      ]
     },
     "execution_count": 24,
     "metadata": {},
     "output_type": "execute_result"
    }
   ],
   "source": [
    "probs[:20], y_test[:20]"
   ]
  },
  {
   "cell_type": "markdown",
   "metadata": {
    "colab_type": "text",
    "id": "CM3odN1Z4Zx3"
   },
   "source": [
    "\n",
    "To try other calibration algorithm istonic regression also please check these tutorials\n",
    "\n",
    "1. http://fa.bianp.net/blog/tag/scikit-learn.html#fn:1\n",
    "\n",
    "2. https://drive.google.com/open?id=1MzmA7QaP58RDzocB0RBmRiWfl7Co_VJ7\n",
    "\n",
    "3. https://drive.google.com/open?id=133odBinMOIVb_rh_GQxxsyMRyW-Zts7a\n",
    "\n",
    "4. https://stat.fandom.com/wiki/Isotonic_regression#Pool_Adjacent_Violators_Algorithm\n"
   ]
  }
 ],
 "metadata": {
  "colab": {
   "collapsed_sections": [],
   "name": "8E_F_LR_SVM.ipynb",
   "provenance": []
  },
  "kernelspec": {
   "display_name": "Python 3",
   "language": "python",
   "name": "python3"
  },
  "language_info": {
   "codemirror_mode": {
    "name": "ipython",
    "version": 3
   },
   "file_extension": ".py",
   "mimetype": "text/x-python",
   "name": "python",
   "nbconvert_exporter": "python",
   "pygments_lexer": "ipython3",
   "version": "3.9.1"
  }
 },
 "nbformat": 4,
 "nbformat_minor": 1
}
